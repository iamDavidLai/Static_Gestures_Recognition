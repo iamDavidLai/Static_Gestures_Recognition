{
  "nbformat": 4,
  "nbformat_minor": 0,
  "metadata": {
    "colab": {
      "name": "Gesture_recog_7.ipynb",
      "provenance": [],
      "collapsed_sections": [],
      "toc_visible": true,
      "mount_file_id": "1aeVX7NhEUsTHfll718duN4Q_qJwCWWcu",
      "authorship_tag": "ABX9TyNJ1d/T/rH1rMYkKRLpnqAC",
      "include_colab_link": true
    },
    "kernelspec": {
      "name": "python3",
      "display_name": "Python 3"
    },
    "accelerator": "GPU"
  },
  "cells": [
    {
      "cell_type": "markdown",
      "metadata": {
        "id": "view-in-github",
        "colab_type": "text"
      },
      "source": [
        "<a href=\"https://colab.research.google.com/github/iamDavidLai/Static_Gestures_Recognition/blob/main/Gesture_recog_7.ipynb\" target=\"_parent\"><img src=\"https://colab.research.google.com/assets/colab-badge.svg\" alt=\"Open In Colab\"/></a>"
      ]
    },
    {
      "cell_type": "code",
      "metadata": {
        "colab": {
          "base_uri": "https://localhost:8080/"
        },
        "id": "zyeT2wkQLTxi",
        "outputId": "fe4bf0c8-cada-4098-91c9-ed11eb429af0"
      },
      "source": [
        "!ls      # 目前的資料夾\n",
        "!pwd      # 當前目錄\n",
        "!nvidia-smi  # 查看GPU"
      ],
      "execution_count": null,
      "outputs": [
        {
          "output_type": "stream",
          "text": [
            "drive\t\tmy_gesture_7_model_weights.h5  sample_data\n",
            "my_gesture_7-2\tmy_gesture_7_structure.json\n",
            "/content\n",
            "Fri Nov 27 04:51:45 2020       \n",
            "+-----------------------------------------------------------------------------+\n",
            "| NVIDIA-SMI 455.38       Driver Version: 418.67       CUDA Version: 10.1     |\n",
            "|-------------------------------+----------------------+----------------------+\n",
            "| GPU  Name        Persistence-M| Bus-Id        Disp.A | Volatile Uncorr. ECC |\n",
            "| Fan  Temp  Perf  Pwr:Usage/Cap|         Memory-Usage | GPU-Util  Compute M. |\n",
            "|                               |                      |               MIG M. |\n",
            "|===============================+======================+======================|\n",
            "|   0  Tesla T4            Off  | 00000000:00:04.0 Off |                    0 |\n",
            "| N/A   68C    P8    11W /  70W |      0MiB / 15079MiB |      0%      Default |\n",
            "|                               |                      |                 ERR! |\n",
            "+-------------------------------+----------------------+----------------------+\n",
            "                                                                               \n",
            "+-----------------------------------------------------------------------------+\n",
            "| Processes:                                                                  |\n",
            "|  GPU   GI   CI        PID   Type   Process name                  GPU Memory |\n",
            "|        ID   ID                                                   Usage      |\n",
            "|=============================================================================|\n",
            "|  No running processes found                                                 |\n",
            "+-----------------------------------------------------------------------------+\n"
          ],
          "name": "stdout"
        }
      ]
    },
    {
      "cell_type": "markdown",
      "metadata": {
        "id": "G8-H3dNgPiS8"
      },
      "source": [
        "###*務必確認 Keras 與 tensorflow 兩個版本之間的相容性, 否則訓練過程將會發生難以判斷的錯誤。*\n",
        "\n",
        "#### IMPORTANT!     Checking library compatibility is necessary.\n",
        "\n",
        "\n",
        "https://docs.floydhub.com/guides/environments/"
      ]
    },
    {
      "cell_type": "code",
      "metadata": {
        "colab": {
          "base_uri": "https://localhost:8080/"
        },
        "id": "DxoUkGoFNYe5",
        "outputId": "8230be6e-df2a-4f1d-a518-9ba02a46e790"
      },
      "source": [
        "!pip install keras==2.3.1\n",
        "!pip install tensorflow==2.2.0 \n",
        "\n",
        "# !pip install -q keras==2.3.1\n",
        "# !pip install -q tensorflow==2.2.0"
      ],
      "execution_count": null,
      "outputs": [
        {
          "output_type": "stream",
          "text": [
            "Requirement already satisfied: keras==2.3.1 in /usr/local/lib/python3.6/dist-packages (2.3.1)\n",
            "Requirement already satisfied: scipy>=0.14 in /usr/local/lib/python3.6/dist-packages (from keras==2.3.1) (1.4.1)\n",
            "Requirement already satisfied: numpy>=1.9.1 in /usr/local/lib/python3.6/dist-packages (from keras==2.3.1) (1.18.5)\n",
            "Requirement already satisfied: pyyaml in /usr/local/lib/python3.6/dist-packages (from keras==2.3.1) (3.13)\n",
            "Requirement already satisfied: h5py in /usr/local/lib/python3.6/dist-packages (from keras==2.3.1) (2.10.0)\n",
            "Requirement already satisfied: keras-applications>=1.0.6 in /usr/local/lib/python3.6/dist-packages (from keras==2.3.1) (1.0.8)\n",
            "Requirement already satisfied: keras-preprocessing>=1.0.5 in /usr/local/lib/python3.6/dist-packages (from keras==2.3.1) (1.1.2)\n",
            "Requirement already satisfied: six>=1.9.0 in /usr/local/lib/python3.6/dist-packages (from keras==2.3.1) (1.15.0)\n",
            "Requirement already satisfied: tensorflow==2.2.0 in /usr/local/lib/python3.6/dist-packages (2.2.0)\n",
            "Requirement already satisfied: keras-preprocessing>=1.1.0 in /usr/local/lib/python3.6/dist-packages (from tensorflow==2.2.0) (1.1.2)\n",
            "Requirement already satisfied: h5py<2.11.0,>=2.10.0 in /usr/local/lib/python3.6/dist-packages (from tensorflow==2.2.0) (2.10.0)\n",
            "Requirement already satisfied: gast==0.3.3 in /usr/local/lib/python3.6/dist-packages (from tensorflow==2.2.0) (0.3.3)\n",
            "Requirement already satisfied: protobuf>=3.8.0 in /usr/local/lib/python3.6/dist-packages (from tensorflow==2.2.0) (3.12.4)\n",
            "Requirement already satisfied: grpcio>=1.8.6 in /usr/local/lib/python3.6/dist-packages (from tensorflow==2.2.0) (1.33.2)\n",
            "Requirement already satisfied: scipy==1.4.1; python_version >= \"3\" in /usr/local/lib/python3.6/dist-packages (from tensorflow==2.2.0) (1.4.1)\n",
            "Requirement already satisfied: tensorflow-estimator<2.3.0,>=2.2.0 in /usr/local/lib/python3.6/dist-packages (from tensorflow==2.2.0) (2.2.0)\n",
            "Requirement already satisfied: termcolor>=1.1.0 in /usr/local/lib/python3.6/dist-packages (from tensorflow==2.2.0) (1.1.0)\n",
            "Requirement already satisfied: google-pasta>=0.1.8 in /usr/local/lib/python3.6/dist-packages (from tensorflow==2.2.0) (0.2.0)\n",
            "Requirement already satisfied: absl-py>=0.7.0 in /usr/local/lib/python3.6/dist-packages (from tensorflow==2.2.0) (0.10.0)\n",
            "Requirement already satisfied: opt-einsum>=2.3.2 in /usr/local/lib/python3.6/dist-packages (from tensorflow==2.2.0) (3.3.0)\n",
            "Requirement already satisfied: numpy<2.0,>=1.16.0 in /usr/local/lib/python3.6/dist-packages (from tensorflow==2.2.0) (1.18.5)\n",
            "Requirement already satisfied: six>=1.12.0 in /usr/local/lib/python3.6/dist-packages (from tensorflow==2.2.0) (1.15.0)\n",
            "Requirement already satisfied: wrapt>=1.11.1 in /usr/local/lib/python3.6/dist-packages (from tensorflow==2.2.0) (1.12.1)\n",
            "Requirement already satisfied: wheel>=0.26; python_version >= \"3\" in /usr/local/lib/python3.6/dist-packages (from tensorflow==2.2.0) (0.35.1)\n",
            "Requirement already satisfied: tensorboard<2.3.0,>=2.2.0 in /usr/local/lib/python3.6/dist-packages (from tensorflow==2.2.0) (2.2.2)\n",
            "Requirement already satisfied: astunparse==1.6.3 in /usr/local/lib/python3.6/dist-packages (from tensorflow==2.2.0) (1.6.3)\n",
            "Requirement already satisfied: setuptools in /usr/local/lib/python3.6/dist-packages (from protobuf>=3.8.0->tensorflow==2.2.0) (50.3.2)\n",
            "Requirement already satisfied: google-auth-oauthlib<0.5,>=0.4.1 in /usr/local/lib/python3.6/dist-packages (from tensorboard<2.3.0,>=2.2.0->tensorflow==2.2.0) (0.4.2)\n",
            "Requirement already satisfied: google-auth<2,>=1.6.3 in /usr/local/lib/python3.6/dist-packages (from tensorboard<2.3.0,>=2.2.0->tensorflow==2.2.0) (1.17.2)\n",
            "Requirement already satisfied: requests<3,>=2.21.0 in /usr/local/lib/python3.6/dist-packages (from tensorboard<2.3.0,>=2.2.0->tensorflow==2.2.0) (2.23.0)\n",
            "Requirement already satisfied: markdown>=2.6.8 in /usr/local/lib/python3.6/dist-packages (from tensorboard<2.3.0,>=2.2.0->tensorflow==2.2.0) (3.3.3)\n",
            "Requirement already satisfied: werkzeug>=0.11.15 in /usr/local/lib/python3.6/dist-packages (from tensorboard<2.3.0,>=2.2.0->tensorflow==2.2.0) (1.0.1)\n",
            "Requirement already satisfied: tensorboard-plugin-wit>=1.6.0 in /usr/local/lib/python3.6/dist-packages (from tensorboard<2.3.0,>=2.2.0->tensorflow==2.2.0) (1.7.0)\n",
            "Requirement already satisfied: requests-oauthlib>=0.7.0 in /usr/local/lib/python3.6/dist-packages (from google-auth-oauthlib<0.5,>=0.4.1->tensorboard<2.3.0,>=2.2.0->tensorflow==2.2.0) (1.3.0)\n",
            "Requirement already satisfied: pyasn1-modules>=0.2.1 in /usr/local/lib/python3.6/dist-packages (from google-auth<2,>=1.6.3->tensorboard<2.3.0,>=2.2.0->tensorflow==2.2.0) (0.2.8)\n",
            "Requirement already satisfied: rsa<5,>=3.1.4; python_version >= \"3\" in /usr/local/lib/python3.6/dist-packages (from google-auth<2,>=1.6.3->tensorboard<2.3.0,>=2.2.0->tensorflow==2.2.0) (4.6)\n",
            "Requirement already satisfied: cachetools<5.0,>=2.0.0 in /usr/local/lib/python3.6/dist-packages (from google-auth<2,>=1.6.3->tensorboard<2.3.0,>=2.2.0->tensorflow==2.2.0) (4.1.1)\n",
            "Requirement already satisfied: idna<3,>=2.5 in /usr/local/lib/python3.6/dist-packages (from requests<3,>=2.21.0->tensorboard<2.3.0,>=2.2.0->tensorflow==2.2.0) (2.10)\n",
            "Requirement already satisfied: urllib3!=1.25.0,!=1.25.1,<1.26,>=1.21.1 in /usr/local/lib/python3.6/dist-packages (from requests<3,>=2.21.0->tensorboard<2.3.0,>=2.2.0->tensorflow==2.2.0) (1.24.3)\n",
            "Requirement already satisfied: certifi>=2017.4.17 in /usr/local/lib/python3.6/dist-packages (from requests<3,>=2.21.0->tensorboard<2.3.0,>=2.2.0->tensorflow==2.2.0) (2020.11.8)\n",
            "Requirement already satisfied: chardet<4,>=3.0.2 in /usr/local/lib/python3.6/dist-packages (from requests<3,>=2.21.0->tensorboard<2.3.0,>=2.2.0->tensorflow==2.2.0) (3.0.4)\n",
            "Requirement already satisfied: importlib-metadata; python_version < \"3.8\" in /usr/local/lib/python3.6/dist-packages (from markdown>=2.6.8->tensorboard<2.3.0,>=2.2.0->tensorflow==2.2.0) (2.0.0)\n",
            "Requirement already satisfied: oauthlib>=3.0.0 in /usr/local/lib/python3.6/dist-packages (from requests-oauthlib>=0.7.0->google-auth-oauthlib<0.5,>=0.4.1->tensorboard<2.3.0,>=2.2.0->tensorflow==2.2.0) (3.1.0)\n",
            "Requirement already satisfied: pyasn1<0.5.0,>=0.4.6 in /usr/local/lib/python3.6/dist-packages (from pyasn1-modules>=0.2.1->google-auth<2,>=1.6.3->tensorboard<2.3.0,>=2.2.0->tensorflow==2.2.0) (0.4.8)\n",
            "Requirement already satisfied: zipp>=0.5 in /usr/local/lib/python3.6/dist-packages (from importlib-metadata; python_version < \"3.8\"->markdown>=2.6.8->tensorboard<2.3.0,>=2.2.0->tensorflow==2.2.0) (3.4.0)\n"
          ],
          "name": "stdout"
        }
      ]
    },
    {
      "cell_type": "markdown",
      "metadata": {
        "id": "nYvEvNFmRAlJ"
      },
      "source": [
        "## 確認相容性: Keras 2.3.1 & tensorflow 2.2.0 "
      ]
    },
    {
      "cell_type": "code",
      "metadata": {
        "colab": {
          "base_uri": "https://localhost:8080/"
        },
        "id": "nIVagZAhUKmr",
        "outputId": "c5bae00e-086c-4176-93a1-43f952590187"
      },
      "source": [
        "import keras\n",
        "import tensorflow as tf\n",
        "print(\"keras:\", keras.__version__)\n",
        "print(\"tensorflow:\", tf.__version__)"
      ],
      "execution_count": null,
      "outputs": [
        {
          "output_type": "stream",
          "text": [
            "Using TensorFlow backend.\n"
          ],
          "name": "stderr"
        },
        {
          "output_type": "stream",
          "text": [
            "keras: 2.3.1\n",
            "tensorflow: 2.2.0\n"
          ],
          "name": "stdout"
        }
      ]
    },
    {
      "cell_type": "code",
      "metadata": {
        "id": "enjw4iJpOmK7"
      },
      "source": [
        "!unzip \"/content/drive/My Drive/Colab Notebooks/zip/my_gesture_7-2.zip\" -d \"/content\""
      ],
      "execution_count": null,
      "outputs": []
    },
    {
      "cell_type": "code",
      "metadata": {
        "colab": {
          "base_uri": "https://localhost:8080/"
        },
        "id": "YYmT2yl7VEgC",
        "outputId": "1839dbf7-b8f0-4598-f81e-d1e76504b31e"
      },
      "source": [
        "import os\n",
        "# import cv2\n",
        "import numpy as np\n",
        "import matplotlib.pyplot as plt\n",
        "%matplotlib inline\n",
        "\n",
        "from keras.preprocessing.image import ImageDataGenerator\n",
        "from keras.models import Sequential, load_model\n",
        "from keras.layers import Conv2D, MaxPooling2D, Flatten, Dense, Dropout\n",
        "from keras import  optimizers\n",
        "\n",
        "print(os.listdir(\"./my_gesture_7-2\"))"
      ],
      "execution_count": null,
      "outputs": [
        {
          "output_type": "stream",
          "text": [
            "['validation', 'train', 'test']\n"
          ],
          "name": "stdout"
        }
      ]
    },
    {
      "cell_type": "code",
      "metadata": {
        "id": "w4AI9KdcYBaO"
      },
      "source": [
        "# setting directories\n",
        "train_dir = \"./my_gesture_7-2/train\"\n",
        "val_dir = \"./my_gesture_7-2/validation\"\n",
        "test_dir = \"./my_gesture_7-2/test\""
      ],
      "execution_count": null,
      "outputs": []
    },
    {
      "cell_type": "code",
      "metadata": {
        "colab": {
          "base_uri": "https://localhost:8080/"
        },
        "id": "1hHITqXXTO68",
        "outputId": "bd198dae-1939-4a40-d2ee-ffb86c1cc994"
      },
      "source": [
        "epochs = 30 # num of epochs\n",
        "output_size = len(os.listdir(train_dir))  # num of gestures (classification include none), = num of the last Dense layer units\n",
        "print(output_size)"
      ],
      "execution_count": null,
      "outputs": [
        {
          "output_type": "stream",
          "text": [
            "8\n"
          ],
          "name": "stdout"
        }
      ]
    },
    {
      "cell_type": "markdown",
      "metadata": {
        "id": "rXqjmUvhVYLo"
      },
      "source": [
        "## Using Data Augmentation\n",
        "\n",
        "https://keras.io/api/preprocessing/image/\n",
        "\n",
        "https://keras.io/zh/preprocessing/image/\n",
        "\n",
        "https://vijayabhaskar96.medium.com/tutorial-image-classification-with-keras-flow-from-directory-and-generators-95f75ebe5720"
      ]
    },
    {
      "cell_type": "code",
      "metadata": {
        "colab": {
          "base_uri": "https://localhost:8080/"
        },
        "id": "pniQUZ64VXBn",
        "outputId": "0c41e1c9-d89a-4d4f-b0f3-5f703372a7e0"
      },
      "source": [
        "train_datagen = ImageDataGenerator(\n",
        "    rescale = 1./255,\n",
        "    rotation_range = 40,\n",
        "    width_shift_range = 0.2,\n",
        "    height_shift_range = 0.2,\n",
        "    shear_range = 0.2,\n",
        "    zoom_range = 0.2,\n",
        "    horizontal_flip = True  # Do not vertical_flip, because real things almost has not upside down type.\n",
        ")\n",
        "\n",
        "\"\"\"\n",
        "IMPORTANT!\n",
        "test & validation data should not be augmentation.\n",
        "\"\"\"\n",
        "test_datagen = ImageDataGenerator(rescale= 1./255) \n",
        "\n",
        "train_generator = train_datagen.flow_from_directory(\n",
        "  train_dir,          # it should contain subdirectories, 子目錄內要包含圖片分類 each containing images for a class. Otherwise, the directory structure is ignored.\n",
        "  target_size = (256,256),  # Your image dimension\n",
        "  batch_size = 32,      # Size of the batches of data. 每一次處理多少數據(圖像) default value, \n",
        "  class_mode = \"categorical\", # will return 2D One-hot Encoding labels \n",
        "  color_mode =\"grayscale\"   # We use binary images that will be converted to have 1 channel.\n",
        ")\n",
        "\n",
        "val_generator = test_datagen.flow_from_directory(\n",
        "  val_dir,\n",
        "  target_size = (256,256),\n",
        "  batch_size = 32,      \n",
        "  class_mode = \"categorical\",\n",
        "  color_mode =\"grayscale\"\n",
        ")"
      ],
      "execution_count": null,
      "outputs": [
        {
          "output_type": "stream",
          "text": [
            "Found 8031 images belonging to 8 classes.\n",
            "Found 4017 images belonging to 8 classes.\n"
          ],
          "name": "stdout"
        }
      ]
    },
    {
      "cell_type": "code",
      "metadata": {
        "id": "TFMhFT9pcX9J"
      },
      "source": [
        "def create_model(output_size):\n",
        "  model = Sequential()\n",
        "  model.add(Conv2D(filters=32, kernel_size=(3,3), activation=\"relu\", input_shape=(256,256,1)))  # image dimension (width, height, channel)\n",
        "  model.add(Conv2D(filters=32, kernel_size=(3,3), activation=\"relu\"))\n",
        "  model.add(MaxPooling2D(pool_size=2))\n",
        "\n",
        "  model.add(Conv2D(filters=64, kernel_size=(3,3), activation=\"relu\"))\n",
        "  model.add(Conv2D(filters=64, kernel_size=(3,3), activation=\"relu\"))\n",
        "  model.add(MaxPooling2D(pool_size=2))\n",
        "\n",
        "  model.add(Conv2D(filters=128, kernel_size=(3,3), activation=\"relu\"))\n",
        "  model.add(Conv2D(filters=128, kernel_size=(3,3), activation=\"relu\"))   \n",
        "  model.add(MaxPooling2D(pool_size=2))\n",
        "\n",
        "  model.add(Flatten())\n",
        "  model.add(Dropout(rate=0.5))\n",
        "\n",
        "  model.add(Dense(512, activation=\"relu\"))\n",
        "\n",
        "  \"\"\"\n",
        "  Problem type: Multiclass, single-label classification\n",
        "  Last-layer actication: softmax\n",
        "  Loss function: categorical_crossentropy\n",
        "  learning rate = 1e-4 = 0.0001\n",
        "  \"\"\"\n",
        "  model.add(Dense(units=output_size, activation=\"softmax\"))\n",
        "  model.compile(optimizer = optimizers.adam(lr=1e-4), loss =\"categorical_crossentropy\", metrics=[\"accuracy\"])\n",
        "  return model"
      ],
      "execution_count": null,
      "outputs": []
    },
    {
      "cell_type": "code",
      "metadata": {
        "colab": {
          "base_uri": "https://localhost:8080/"
        },
        "id": "NlRWe55acYYT",
        "outputId": "f3cd9772-fa42-46e0-8383-03bba48c798e"
      },
      "source": [
        "model = create_model(output_size)\n",
        "model.summary()"
      ],
      "execution_count": null,
      "outputs": [
        {
          "output_type": "stream",
          "text": [
            "Model: \"sequential_1\"\n",
            "_________________________________________________________________\n",
            "Layer (type)                 Output Shape              Param #   \n",
            "=================================================================\n",
            "conv2d_1 (Conv2D)            (None, 254, 254, 32)      320       \n",
            "_________________________________________________________________\n",
            "conv2d_2 (Conv2D)            (None, 252, 252, 32)      9248      \n",
            "_________________________________________________________________\n",
            "max_pooling2d_1 (MaxPooling2 (None, 126, 126, 32)      0         \n",
            "_________________________________________________________________\n",
            "conv2d_3 (Conv2D)            (None, 124, 124, 64)      18496     \n",
            "_________________________________________________________________\n",
            "conv2d_4 (Conv2D)            (None, 122, 122, 64)      36928     \n",
            "_________________________________________________________________\n",
            "max_pooling2d_2 (MaxPooling2 (None, 61, 61, 64)        0         \n",
            "_________________________________________________________________\n",
            "conv2d_5 (Conv2D)            (None, 59, 59, 128)       73856     \n",
            "_________________________________________________________________\n",
            "conv2d_6 (Conv2D)            (None, 57, 57, 128)       147584    \n",
            "_________________________________________________________________\n",
            "max_pooling2d_3 (MaxPooling2 (None, 28, 28, 128)       0         \n",
            "_________________________________________________________________\n",
            "flatten_1 (Flatten)          (None, 100352)            0         \n",
            "_________________________________________________________________\n",
            "dropout_1 (Dropout)          (None, 100352)            0         \n",
            "_________________________________________________________________\n",
            "dense_1 (Dense)              (None, 512)               51380736  \n",
            "_________________________________________________________________\n",
            "dense_2 (Dense)              (None, 8)                 4104      \n",
            "=================================================================\n",
            "Total params: 51,671,272\n",
            "Trainable params: 51,671,272\n",
            "Non-trainable params: 0\n",
            "_________________________________________________________________\n"
          ],
          "name": "stdout"
        }
      ]
    },
    {
      "cell_type": "markdown",
      "metadata": {
        "id": "nNthkejIsU4s"
      },
      "source": [
        "## Training Model\n",
        "fit_generator() for ImageDataGenerator()\n",
        "\n",
        "http://yanci-elegant-life.blogspot.com/2019/09/fitgeneratorfitgenerator-tensorflow.html\n",
        "\n",
        "https://blog.csdn.net/learning_tortosie/article/details/85243310"
      ]
    },
    {
      "cell_type": "code",
      "metadata": {
        "colab": {
          "base_uri": "https://localhost:8080/"
        },
        "id": "48qYOd5CcYa6",
        "outputId": "5112a656-ae88-48fa-a72d-611e246c8592"
      },
      "source": [
        "history = model.fit_generator(\n",
        "  train_generator,\n",
        "  steps_per_epoch = output_size*1000/32,     # 8*1000/32 = 250\n",
        "  epochs = epochs,\n",
        "  validation_data = val_generator,\n",
        "  validation_steps = output_size*500/32\n",
        ")"
      ],
      "execution_count": null,
      "outputs": [
        {
          "output_type": "stream",
          "text": [
            "Epoch 1/30\n",
            "250/250 [==============================] - 69s 274ms/step - loss: 1.1449 - accuracy: 0.5514 - val_loss: 0.7641 - val_accuracy: 0.7920\n",
            "Epoch 2/30\n",
            "250/250 [==============================] - 64s 256ms/step - loss: 0.5997 - accuracy: 0.7735 - val_loss: 0.4388 - val_accuracy: 0.8740\n",
            "Epoch 3/30\n",
            "250/250 [==============================] - 64s 254ms/step - loss: 0.4173 - accuracy: 0.8517 - val_loss: 0.1230 - val_accuracy: 0.9536\n",
            "Epoch 4/30\n",
            "250/250 [==============================] - 64s 255ms/step - loss: 0.3309 - accuracy: 0.8842 - val_loss: 0.0849 - val_accuracy: 0.9797\n",
            "Epoch 5/30\n",
            "250/250 [==============================] - 64s 256ms/step - loss: 0.2840 - accuracy: 0.9059 - val_loss: 0.0452 - val_accuracy: 0.9566\n",
            "Epoch 6/30\n",
            "250/250 [==============================] - 64s 256ms/step - loss: 0.2454 - accuracy: 0.9159 - val_loss: 0.1906 - val_accuracy: 0.9629\n",
            "Epoch 7/30\n",
            "250/250 [==============================] - 64s 255ms/step - loss: 0.2061 - accuracy: 0.9347 - val_loss: 0.2007 - val_accuracy: 0.9661\n",
            "Epoch 8/30\n",
            "250/250 [==============================] - 64s 254ms/step - loss: 0.1704 - accuracy: 0.9416 - val_loss: 0.4648 - val_accuracy: 0.9875\n",
            "Epoch 9/30\n",
            "250/250 [==============================] - 63s 253ms/step - loss: 0.1600 - accuracy: 0.9457 - val_loss: 0.0573 - val_accuracy: 0.9832\n",
            "Epoch 10/30\n",
            "250/250 [==============================] - 64s 254ms/step - loss: 0.1380 - accuracy: 0.9524 - val_loss: 0.3233 - val_accuracy: 0.9817\n",
            "Epoch 11/30\n",
            "250/250 [==============================] - 63s 254ms/step - loss: 0.1218 - accuracy: 0.9579 - val_loss: 0.0157 - val_accuracy: 0.9920\n",
            "Epoch 12/30\n",
            "250/250 [==============================] - 63s 253ms/step - loss: 0.1096 - accuracy: 0.9660 - val_loss: 0.0577 - val_accuracy: 0.9862\n",
            "Epoch 13/30\n",
            "250/250 [==============================] - 63s 251ms/step - loss: 0.0961 - accuracy: 0.9706 - val_loss: 0.0333 - val_accuracy: 0.9676\n",
            "Epoch 14/30\n",
            "250/250 [==============================] - 63s 250ms/step - loss: 0.0893 - accuracy: 0.9711 - val_loss: 0.2034 - val_accuracy: 0.9947\n",
            "Epoch 15/30\n",
            "250/250 [==============================] - 63s 251ms/step - loss: 0.0978 - accuracy: 0.9685 - val_loss: 0.0112 - val_accuracy: 0.9937\n",
            "Epoch 16/30\n",
            "250/250 [==============================] - 63s 250ms/step - loss: 0.0860 - accuracy: 0.9715 - val_loss: 0.0549 - val_accuracy: 0.9849\n",
            "Epoch 17/30\n",
            "250/250 [==============================] - 62s 250ms/step - loss: 0.0836 - accuracy: 0.9732 - val_loss: 0.1289 - val_accuracy: 0.9900\n",
            "Epoch 18/30\n",
            "250/250 [==============================] - 63s 251ms/step - loss: 0.0759 - accuracy: 0.9760 - val_loss: 0.1838 - val_accuracy: 0.9809\n",
            "Epoch 19/30\n",
            "250/250 [==============================] - 63s 250ms/step - loss: 0.0693 - accuracy: 0.9765 - val_loss: 7.5894e-04 - val_accuracy: 0.9905\n",
            "Epoch 20/30\n",
            "250/250 [==============================] - 63s 253ms/step - loss: 0.0642 - accuracy: 0.9785 - val_loss: 0.0019 - val_accuracy: 0.9940\n",
            "Epoch 21/30\n",
            "250/250 [==============================] - 63s 250ms/step - loss: 0.0655 - accuracy: 0.9782 - val_loss: 0.0020 - val_accuracy: 0.9942\n",
            "Epoch 22/30\n",
            "250/250 [==============================] - 63s 251ms/step - loss: 0.0569 - accuracy: 0.9822 - val_loss: 0.0111 - val_accuracy: 0.9897\n",
            "Epoch 23/30\n",
            "250/250 [==============================] - 63s 252ms/step - loss: 0.0647 - accuracy: 0.9777 - val_loss: 0.0175 - val_accuracy: 0.9910\n",
            "Epoch 24/30\n",
            "250/250 [==============================] - 63s 252ms/step - loss: 0.0580 - accuracy: 0.9806 - val_loss: 0.0867 - val_accuracy: 0.9774\n",
            "Epoch 25/30\n",
            "250/250 [==============================] - 63s 250ms/step - loss: 0.0541 - accuracy: 0.9829 - val_loss: 0.0015 - val_accuracy: 0.9952\n",
            "Epoch 26/30\n",
            "250/250 [==============================] - 62s 249ms/step - loss: 0.0542 - accuracy: 0.9805 - val_loss: 0.0049 - val_accuracy: 0.9935\n",
            "Epoch 27/30\n",
            "250/250 [==============================] - 62s 248ms/step - loss: 0.0482 - accuracy: 0.9841 - val_loss: 0.0020 - val_accuracy: 0.9887\n",
            "Epoch 28/30\n",
            "250/250 [==============================] - 63s 251ms/step - loss: 0.0407 - accuracy: 0.9856 - val_loss: 0.0040 - val_accuracy: 0.9935\n",
            "Epoch 29/30\n",
            "250/250 [==============================] - 62s 250ms/step - loss: 0.0428 - accuracy: 0.9860 - val_loss: 0.0490 - val_accuracy: 0.9920\n",
            "Epoch 30/30\n",
            "250/250 [==============================] - 62s 250ms/step - loss: 0.0429 - accuracy: 0.9864 - val_loss: 0.0734 - val_accuracy: 0.9864\n"
          ],
          "name": "stdout"
        }
      ]
    },
    {
      "cell_type": "markdown",
      "metadata": {
        "id": "X5SdiX5ejLrc"
      },
      "source": [
        "## Loading The Model"
      ]
    },
    {
      "cell_type": "code",
      "metadata": {
        "id": "Qo-_Vv-njURQ",
        "colab": {
          "base_uri": "https://localhost:8080/"
        },
        "outputId": "5f569b50-8b02-41a5-bf95-912e41bae64e"
      },
      "source": [
        "model = load_model(\"/content/drive/My Drive/Colab Notebooks/zip/my_gesture_7_model.h5\")\n",
        "\n",
        "model.summary()"
      ],
      "execution_count": null,
      "outputs": [
        {
          "output_type": "stream",
          "text": [
            "Model: \"sequential_1\"\n",
            "_________________________________________________________________\n",
            "Layer (type)                 Output Shape              Param #   \n",
            "=================================================================\n",
            "conv2d_1 (Conv2D)            (None, 254, 254, 32)      320       \n",
            "_________________________________________________________________\n",
            "conv2d_2 (Conv2D)            (None, 252, 252, 32)      9248      \n",
            "_________________________________________________________________\n",
            "max_pooling2d_1 (MaxPooling2 (None, 126, 126, 32)      0         \n",
            "_________________________________________________________________\n",
            "conv2d_3 (Conv2D)            (None, 124, 124, 64)      18496     \n",
            "_________________________________________________________________\n",
            "conv2d_4 (Conv2D)            (None, 122, 122, 64)      36928     \n",
            "_________________________________________________________________\n",
            "max_pooling2d_2 (MaxPooling2 (None, 61, 61, 64)        0         \n",
            "_________________________________________________________________\n",
            "conv2d_5 (Conv2D)            (None, 59, 59, 128)       73856     \n",
            "_________________________________________________________________\n",
            "conv2d_6 (Conv2D)            (None, 57, 57, 128)       147584    \n",
            "_________________________________________________________________\n",
            "max_pooling2d_3 (MaxPooling2 (None, 28, 28, 128)       0         \n",
            "_________________________________________________________________\n",
            "flatten_1 (Flatten)          (None, 100352)            0         \n",
            "_________________________________________________________________\n",
            "dropout_1 (Dropout)          (None, 100352)            0         \n",
            "_________________________________________________________________\n",
            "dense_1 (Dense)              (None, 512)               51380736  \n",
            "_________________________________________________________________\n",
            "dense_2 (Dense)              (None, 8)                 4104      \n",
            "=================================================================\n",
            "Total params: 51,671,272\n",
            "Trainable params: 51,671,272\n",
            "Non-trainable params: 0\n",
            "_________________________________________________________________\n"
          ],
          "name": "stdout"
        }
      ]
    },
    {
      "cell_type": "markdown",
      "metadata": {
        "id": "Fka6g2_4jFFt"
      },
      "source": [
        "## Evaluating The Model"
      ]
    },
    {
      "cell_type": "code",
      "metadata": {
        "colab": {
          "base_uri": "https://localhost:8080/"
        },
        "id": "eDHnOzcUcYfh",
        "outputId": "31e18894-eea0-4125-e0f3-8483d9ac8ab5"
      },
      "source": [
        "test_generator = test_datagen.flow_from_directory(\n",
        "  test_dir,\n",
        "  target_size = (256,256),\n",
        "  batch_size = 32,\n",
        "  class_mode = \"categorical\",\n",
        "  color_mode = \"grayscale\"\n",
        ")"
      ],
      "execution_count": null,
      "outputs": [
        {
          "output_type": "stream",
          "text": [
            "Found 4026 images belonging to 8 classes.\n"
          ],
          "name": "stdout"
        }
      ]
    },
    {
      "cell_type": "code",
      "metadata": {
        "colab": {
          "base_uri": "https://localhost:8080/"
        },
        "id": "KelWCwafiRJ6",
        "outputId": "807c5299-b3e4-45f2-8e83-e43aed86a869"
      },
      "source": [
        "test_loss, test_acc = model.evaluate_generator(\n",
        "    test_generator,\n",
        "    steps = output_size*500/32,\n",
        "    verbose=1\n",
        "    )\n",
        "print(\"Test Loss:\", test_loss)\n",
        "print(\"Test Accuracy:\", test_acc)"
      ],
      "execution_count": null,
      "outputs": [
        {
          "output_type": "stream",
          "text": [
            "125/125 [==============================] - 7s 57ms/step\n",
            "Test Loss: 0.004316849168390036\n",
            "Test Accuracy: 0.9947500228881836\n"
          ],
          "name": "stdout"
        }
      ]
    },
    {
      "cell_type": "code",
      "metadata": {
        "colab": {
          "base_uri": "https://localhost:8080/",
          "height": 562
        },
        "id": "oVJOcGW6cYdS",
        "outputId": "03ae8a82-12ca-4c3e-d992-19cd38dcca1e"
      },
      "source": [
        "acc = history.history[\"accuracy\"]\n",
        "val_acc = history.history[\"val_accuracy\"]\n",
        "loss = history.history[\"loss\"]\n",
        "val_loss = history.history[\"val_loss\"]\n",
        "\n",
        "epochs = range(1, len(acc)+1)\n",
        "\n",
        "plt.plot(epochs, acc, label = \"Training acc\")\n",
        "plt.plot(epochs, val_acc, label = \"Validation acc\")\n",
        "plt.title(\"Trainging & Validation Accuracy\")\n",
        "plt.legend()\n",
        "plt.figure()\n",
        "plt.plot(epochs, loss, label = \"Training loss\")\n",
        "plt.plot(epochs, val_loss, label = \"Validation loss\")\n",
        "plt.title(\"Trainging & Validation Loss\")\n",
        "plt.legend()"
      ],
      "execution_count": null,
      "outputs": [
        {
          "output_type": "execute_result",
          "data": {
            "text/plain": [
              "<matplotlib.legend.Legend at 0x7fdf8a963d30>"
            ]
          },
          "metadata": {
            "tags": []
          },
          "execution_count": 16
        },
        {
          "output_type": "display_data",
          "data": {
            "image/png": "[encoded data removed]",
            "text/plain": [
              "<Figure size 432x288 with 1 Axes>"
            ]
          },
          "metadata": {
            "tags": [],
            "needs_background": "light"
          }
        },
        {
          "output_type": "display_data",
          "data": {
            "image/png": "[encoded data removed]",
            "text/plain": [
              "<Figure size 432x288 with 1 Axes>"
            ]
          },
          "metadata": {
            "tags": [],
            "needs_background": "light"
          }
        }
      ]
    },
    {
      "cell_type": "markdown",
      "metadata": {
        "id": "EtynxrFAjSrD"
      },
      "source": [
        "## Saving result: All Structure\n",
        "\n",
        "使用 model.save(filepath) 將 Keras 模型保存到單個 HDF5 文件中，該文件將包含：\n",
        "\n",
        "* 模型的結構，允許重新創建模型\n",
        "* 模型的權重\n",
        "* 訓練配置項（損失函數，優化器）\n",
        "* 優化器狀態，允許準確地從你上次結束的地方繼續訓練。\n",
        "\n",
        "透過 keras.models.load_model(filepath) 重新實例化模型。\n",
        "\n",
        "model.load_weights(filepath, by_name=False)\n",
        "\n",
        "預設模型結構是不變的, 如果想將權重載入不同的模型(部分層相同)，透過by_name=True來載入名字相同的層的權重"
      ]
    },
    {
      "cell_type": "code",
      "metadata": {
        "id": "eRYNXV1dk9l5"
      },
      "source": [
        "model.save(\"my_gesture_7_model.h5\")"
      ],
      "execution_count": null,
      "outputs": []
    },
    {
      "cell_type": "markdown",
      "metadata": {
        "id": "LyNoaCocy3Qn"
      },
      "source": [
        "## Saving result: Weights\n",
        "將模型權重儲存為HDF5文件\n"
      ]
    },
    {
      "cell_type": "code",
      "metadata": {
        "id": "Tk_TnPvxy3jX"
      },
      "source": [
        "model.save_weights(\"my_gesture_7_model_weights.h5\")"
      ],
      "execution_count": null,
      "outputs": []
    },
    {
      "cell_type": "code",
      "metadata": {
        "id": "bVNyBE6Z9KQo"
      },
      "source": [
        "# load the weights(parameters), not included model\n",
        "# model.load_weights(\"my_gesture_7_model_weights.h5\")"
      ],
      "execution_count": null,
      "outputs": []
    },
    {
      "cell_type": "markdown",
      "metadata": {
        "id": "3HLsobx7jNTk"
      },
      "source": [
        "## Saving result: Structure of Model\n",
        "\n",
        "如果只需要保存模型的結構，而非其權重或訓練配置項，\n",
        "\n",
        "#### **保存為 JSON:** \n",
        "json_string = model.to_json()\n",
        "\n",
        "#### **保存為 YAML:** \n",
        "yaml_string = model.to_yaml()"
      ]
    },
    {
      "cell_type": "code",
      "metadata": {
        "id": "Vn-r6rwczA9c"
      },
      "source": [
        "import json\n",
        "model_structure = model.to_json()\n",
        "with open(\"my_gesture_7_structure.json\", \"w\") as json_file:\n",
        "    json.dump(model_structure, json_file)"
      ],
      "execution_count": null,
      "outputs": []
    },
    {
      "cell_type": "code",
      "metadata": {
        "id": "EVeWKqJ48xnm"
      },
      "source": [
        "# from keras.models import model_from_json\n",
        "# model = model_from_json(\"json_string\")"
      ],
      "execution_count": null,
      "outputs": []
    }
  ]
}